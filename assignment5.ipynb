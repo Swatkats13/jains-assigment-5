{
  "cells": [
    {
      "cell_type": "code",
      "source": [
        "import pandas as pd\n",
        "from sklearn.model_selection import train_test_split\n",
        "from sklearn.preprocessing import StandardScaler, LabelEncoder\n",
        "\n",
        "def preprocess_data(train_path, test_path):\n",
        "    # Loading the datasets\n",
        "    train_data = pd.read_csv(train_path)\n",
        "    test_data = pd.read_csv(test_path)\n",
        "\n",
        "    # Dropping 'id' or any irrelevant columns\n",
        "    X_train = train_data.drop(['Exited', 'CustomerId', 'Surname'], axis=1)\n",
        "    y_train = train_data['Exited']\n",
        "    X_test = test_data.drop(['CustomerId', 'Surname'], axis=1)\n",
        "\n",
        "    # Handling categorical features\n",
        "    X_train = pd.get_dummies(X_train, drop_first=True)\n",
        "    X_test = pd.get_dummies(X_test, drop_first=True)\n",
        "\n",
        "    # Aligning columns of test data to match training data\n",
        "    X_test = X_test.reindex(columns=X_train.columns, fill_value=0)\n",
        "\n",
        "    # Scaling numerical features\n",
        "    scaler = StandardScaler()\n",
        "    X_train_scaled = scaler.fit_transform(X_train)\n",
        "    X_test_scaled = scaler.transform(X_test)\n",
        "\n",
        "    return X_train_scaled, y_train, X_test_scaled\n",
        "\n",
        "# Loading and preprocessing data\n",
        "train_path = '/content/train.csv'\n",
        "test_path = '/content/test.csv'\n",
        "X_train, y_train, X_test = preprocess_data(train_path, test_path)\n"
      ],
      "metadata": {
        "id": "W7Z-_CD2_p43"
      },
      "execution_count": 12,
      "outputs": []
    },
    {
      "cell_type": "code",
      "source": [
        "import numpy as np\n",
        "from collections import Counter\n",
        "\n",
        "class KNN:\n",
        "    def __init__(self, k=5, distance_metric='euclidean'):\n",
        "        self.k = k\n",
        "        self.distance_metric = distance_metric\n",
        "\n",
        "    def fit(self, X, y):\n",
        "        self.X_train = X\n",
        "        self.y_train = y\n",
        "\n",
        "    def predict(self, X):\n",
        "        predictions = [self._predict(x) for x in X]\n",
        "        return np.array(predictions)\n",
        "\n",
        "    def _predict(self, x):\n",
        "        # Computing distances between x and all examples in the training set\n",
        "        distances = [self.compute_distance(x, x_train) for x_train in self.X_train]\n",
        "\n",
        "        # Getting the nearest k neighbors\n",
        "        k_indices = np.argsort(distances)[:self.k]\n",
        "        k_nearest_labels = [self.y_train[i] for i in k_indices]\n",
        "\n",
        "        # Majority vote - most common class label\n",
        "        most_common = Counter(k_nearest_labels).most_common(1)\n",
        "        return most_common[0][0]\n",
        "\n",
        "    def compute_distance(self, x1, x2):\n",
        "        if self.distance_metric == 'euclidean':\n",
        "            return np.sqrt(np.sum((x1 - x2) ** 2))\n",
        "        elif self.distance_metric == 'manhattan':\n",
        "            return np.sum(np.abs(x1 - x2))\n",
        "\n",
        "# Initializing and training KNN model\n",
        "knn = KNN(k=5)\n",
        "knn.fit(X_train, y_train)\n",
        "\n",
        "# Making predictions\n",
        "y_pred = knn.predict(X_test)\n"
      ],
      "metadata": {
        "id": "KfCj8k2-_3XI"
      },
      "execution_count": 2,
      "outputs": []
    },
    {
      "cell_type": "code",
      "source": [
        "import numpy as np\n",
        "from sklearn.metrics import roc_auc_score\n",
        "\n",
        "def custom_kfold_split(X, y, n_splits=5):\n",
        "    # Ensuring X and y are NumPy arrays for easier splitting\n",
        "    X = np.array(X)\n",
        "    y = np.array(y)\n",
        "\n",
        "    fold_size = len(X) // n_splits\n",
        "    indices = np.arange(len(X))\n",
        "    np.random.shuffle(indices)\n",
        "\n",
        "    for fold in range(n_splits):\n",
        "        val_start = fold * fold_size\n",
        "        val_end = (fold + 1) * fold_size if fold != n_splits - 1 else len(X)\n",
        "\n",
        "        val_indices = indices[val_start:val_end]\n",
        "        train_indices = np.concatenate([indices[:val_start], indices[val_end:]])\n",
        "\n",
        "        X_train, X_val = X[train_indices], X[val_indices]\n",
        "        y_train, y_val = y[train_indices], y[val_indices]\n",
        "\n",
        "        yield X_train, X_val, y_train, y_val\n",
        "\n",
        "def cross_validate(X, y, knn, n_splits=5):\n",
        "    auc_scores = []\n",
        "\n",
        "    # Performing cross-validation manually\n",
        "    for X_train, X_val, y_train, y_val in custom_kfold_split(X, y, n_splits):\n",
        "        knn.fit(X_train, y_train)\n",
        "        y_val_pred = knn.predict(X_val)\n",
        "        auc = roc_auc_score(y_val, y_val_pred)\n",
        "        auc_scores.append(auc)\n",
        "\n",
        "    return np.mean(auc_scores)\n",
        "\n",
        "# Testing different values of k\n",
        "best_k = 1\n",
        "best_auc = 0\n",
        "for k in range(1, 20):\n",
        "    knn = KNN(k=k)\n",
        "    auc = cross_validate(X_train, y_train, knn)\n",
        "    print(f\"k = {k}, AUC = {auc}\")\n",
        "    if auc > best_auc:\n",
        "        best_auc = auc\n",
        "        best_k = k\n",
        "\n",
        "print(f\"Best k: {best_k}, Best AUC: {best_auc}\")\n"
      ],
      "metadata": {
        "colab": {
          "base_uri": "https://localhost:8080/"
        },
        "id": "a258ppkABL5H",
        "outputId": "cec29fa5-eacf-47d9-d30b-e99460666a52"
      },
      "execution_count": 4,
      "outputs": [
        {
          "output_type": "stream",
          "name": "stdout",
          "text": [
            "k = 1, AUC = 0.7417638080565435\n",
            "k = 2, AUC = 0.7504740852717854\n",
            "k = 3, AUC = 0.7619539987607553\n",
            "k = 4, AUC = 0.7587645038075749\n",
            "k = 5, AUC = 0.759270810682519\n",
            "k = 6, AUC = 0.7606251501154073\n",
            "k = 7, AUC = 0.7551508685429162\n",
            "k = 8, AUC = 0.7601381363535723\n",
            "k = 9, AUC = 0.7575642886065711\n",
            "k = 10, AUC = 0.7524296937910233\n",
            "k = 11, AUC = 0.7518209615557992\n",
            "k = 12, AUC = 0.7568359068323491\n",
            "k = 13, AUC = 0.7530050944500521\n",
            "k = 14, AUC = 0.7513272818854506\n",
            "k = 15, AUC = 0.750523858613963\n",
            "k = 16, AUC = 0.7501495257741972\n",
            "k = 17, AUC = 0.7447135159523322\n",
            "k = 18, AUC = 0.7488751725701078\n",
            "k = 19, AUC = 0.7460276925797371\n",
            "Best k: 3, Best AUC: 0.7619539987607553\n"
          ]
        }
      ]
    },
    {
      "cell_type": "code",
      "source": [
        "# Training final model with best k\n",
        "knn = KNN(k=best_k)\n",
        "knn.fit(X_train, y_train)\n",
        "\n",
        "# Making predictions on test data\n",
        "y_test_pred = knn.predict(X_test)\n",
        "\n",
        "# Saving the predictions\n",
        "submission = pd.DataFrame({'CustomerId': pd.read_csv(test_path)['CustomerId'], 'Exited': y_test_pred})\n",
        "submission.to_csv('submission.csv', index=False)\n",
        "\n",
        "print(\"Submission file 'submission.csv' has been created!\")\n"
      ],
      "metadata": {
        "id": "xbvnShtDhLLe"
      },
      "execution_count": null,
      "outputs": []
    },
    {
      "cell_type": "markdown",
      "source": [
        "The above submissions.csv did not have the 'id' column as required in the kaggle format. Producing Submissions.csv that has the correct format for Kaggle submission"
      ],
      "metadata": {
        "id": "3kAv12Ogzu45"
      }
    },
    {
      "cell_type": "code",
      "source": [
        "import pandas as pd\n",
        "\n",
        "# Load the test data\n",
        "test_data = pd.read_csv('/content/test.csv')\n",
        "\n",
        "# Check the columns in test data\n",
        "print(test_data.columns)\n"
      ],
      "metadata": {
        "colab": {
          "base_uri": "https://localhost:8080/"
        },
        "id": "9BxcDAZ4s1mu",
        "outputId": "21552b65-1494-46c4-aecb-5be0b04b3548"
      },
      "execution_count": 16,
      "outputs": [
        {
          "output_type": "stream",
          "name": "stdout",
          "text": [
            "Index(['id', 'CustomerId', 'Surname', 'CreditScore', 'Geography', 'Gender',\n",
            "       'Age', 'Tenure', 'Balance', 'NumOfProducts', 'HasCrCard',\n",
            "       'IsActiveMember', 'EstimatedSalary'],\n",
            "      dtype='object')\n"
          ]
        }
      ]
    },
    {
      "cell_type": "code",
      "source": [
        "# Predictions from KNN model (above)\n",
        "test_predictions = knn.predict(X_test)\n",
        "\n",
        "# Keeping the 'id' column from the test data for Kaggle submission format\n",
        "test_ids = pd.read_csv('/content/test.csv')['id']\n",
        "\n",
        "# Creating the submission DataFrame in the same format as required on Kaggle\n",
        "submission = pd.DataFrame({\n",
        "    'id': test_ids,           # This column should be named 'id'\n",
        "    'Exited': test_predictions  # The predicted labels or probabilities\n",
        "})\n",
        "\n",
        "# Saving to CSV file\n",
        "submission.to_csv('submission1.csv', index=False)\n"
      ],
      "metadata": {
        "id": "I1L-Z4rUti2d"
      },
      "execution_count": 17,
      "outputs": []
    },
    {
      "cell_type": "markdown",
      "source": [
        "The final submissions1.csv is in the format required by Kaggle"
      ],
      "metadata": {
        "id": "pPpI8Vzhz9nK"
      }
    },
    {
      "cell_type": "code",
      "source": [],
      "metadata": {
        "id": "nespOWB-0CJf"
      },
      "execution_count": null,
      "outputs": []
    }
  ],
  "metadata": {
    "kernelspec": {
      "display_name": "cs506",
      "language": "python",
      "name": "python3"
    },
    "language_info": {
      "codemirror_mode": {
        "name": "ipython",
        "version": 3
      },
      "file_extension": ".py",
      "mimetype": "text/x-python",
      "name": "python",
      "nbconvert_exporter": "python",
      "pygments_lexer": "ipython3",
      "version": "3.10.15"
    },
    "colab": {
      "provenance": []
    }
  },
  "nbformat": 4,
  "nbformat_minor": 0
}